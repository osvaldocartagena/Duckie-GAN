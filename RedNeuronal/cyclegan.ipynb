{
  "nbformat": 4,
  "nbformat_minor": 0,
  "metadata": {
    "colab": {
      "name": "cyclegan.ipynb",
      "provenance": [],
      "collapsed_sections": [],
      "include_colab_link": true
    },
    "kernelspec": {
      "name": "python3",
      "display_name": "Python 3"
    },
    "accelerator": "GPU"
  },
  "cells": [
    {
      "cell_type": "markdown",
      "metadata": {
        "id": "view-in-github",
        "colab_type": "text"
      },
      "source": [
        "<a href=\"https://colab.research.google.com/github/osvaldocartagena/Duckie-GAN/blob/main/RedNeuronal/cyclegan.ipynb\" target=\"_parent\"><img src=\"https://colab.research.google.com/assets/colab-badge.svg\" alt=\"Open In Colab\"/></a>"
      ]
    },
    {
      "cell_type": "markdown",
      "metadata": {
        "id": "bXIYOKwTXhbC"
      },
      "source": [
        "# Instalaciones previas\n"
      ]
    },
    {
      "cell_type": "markdown",
      "metadata": {
        "id": "blTfrsJgHzjL"
      },
      "source": [
        "Montar el almacenamiento de google drive"
      ]
    },
    {
      "cell_type": "code",
      "metadata": {
        "id": "TZctImER6K4e"
      },
      "source": [
        "from google.colab import drive\n",
        "drive.mount('/content/drive', force_remount=True)"
      ],
      "execution_count": null,
      "outputs": []
    },
    {
      "cell_type": "markdown",
      "metadata": {
        "id": "X-Eu8AgAH7lT"
      },
      "source": [
        "Entrar a la carpeta y descargar PyTorch-GAN"
      ]
    },
    {
      "cell_type": "code",
      "metadata": {
        "id": "EhklDDZAt2xW"
      },
      "source": [
        "%cd '/content/drive/MyDrive/DuckieGan'\n",
        "!git clone https://github.com/osvaldocartagena/PyTorch-GAN.git"
      ],
      "execution_count": null,
      "outputs": []
    },
    {
      "cell_type": "markdown",
      "metadata": {
        "id": "Q2oT97mkIMJB"
      },
      "source": [
        "Instalar las librerias necesarias"
      ]
    },
    {
      "cell_type": "code",
      "metadata": {
        "id": "PZNkpOTZuCi4"
      },
      "source": [
        "!pip3 install -r \"/content/drive/MyDrive/DuckieGan/PyTorch-GAN/requirements.txt\""
      ],
      "execution_count": null,
      "outputs": []
    },
    {
      "cell_type": "markdown",
      "metadata": {
        "id": "3unpFn-CnVZx"
      },
      "source": [
        "# Entrenar red"
      ]
    },
    {
      "cell_type": "markdown",
      "metadata": {
        "id": "6aFmTciRW7WH"
      },
      "source": [
        "Entrar a la carpeta contenedora de cycelgan-py"
      ]
    },
    {
      "cell_type": "code",
      "metadata": {
        "id": "bvSGQIYhh3Zj"
      },
      "source": [
        "%cd PyTorch-GAN/implementations/cyclegan"
      ],
      "execution_count": null,
      "outputs": []
    },
    {
      "cell_type": "markdown",
      "metadata": {
        "id": "JMMbkdqrWU72"
      },
      "source": [
        "Ejecutar "
      ]
    },
    {
      "cell_type": "code",
      "metadata": {
        "id": "YpVjBhbgoY5u"
      },
      "source": [
        "!python cyclegan.py --dataset_name DuckieGan --checkpoint_interval=1 --batch_size=1 --epoch=0 --lr=0.0002  "
      ],
      "execution_count": null,
      "outputs": []
    }
  ]
}